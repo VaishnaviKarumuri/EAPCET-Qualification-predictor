{
 "cells": [
  {
   "cell_type": "code",
   "execution_count": 1,
   "id": "3ae9ad7a",
   "metadata": {},
   "outputs": [],
   "source": [
    "import pandas as pd\n",
    "df=pd.read_excel(\"C:\\\\Users\\\\pssbh\\\\OneDrive\\\\Sem 5\\\\DWDM Pro\\\\new merged all3.xlsx\")"
   ]
  },
  {
   "cell_type": "code",
   "execution_count": 2,
   "id": "d9bb6405",
   "metadata": {},
   "outputs": [
    {
     "data": {
      "text/html": [
       "<div>\n",
       "<style scoped>\n",
       "    .dataframe tbody tr th:only-of-type {\n",
       "        vertical-align: middle;\n",
       "    }\n",
       "\n",
       "    .dataframe tbody tr th {\n",
       "        vertical-align: top;\n",
       "    }\n",
       "\n",
       "    .dataframe thead th {\n",
       "        text-align: right;\n",
       "    }\n",
       "</style>\n",
       "<table border=\"1\" class=\"dataframe\">\n",
       "  <thead>\n",
       "    <tr style=\"text-align: right;\">\n",
       "      <th></th>\n",
       "      <th>Name</th>\n",
       "      <th>Gender</th>\n",
       "      <th>Hallticket number</th>\n",
       "      <th>State</th>\n",
       "      <th>District</th>\n",
       "      <th>region</th>\n",
       "      <th>Intermediate_marks</th>\n",
       "      <th>Eamcet year</th>\n",
       "      <th>eamcet marks</th>\n",
       "      <th>status</th>\n",
       "      <th>Eamcet rank</th>\n",
       "      <th>Allotted college</th>\n",
       "      <th>Branch</th>\n",
       "      <th>Coed</th>\n",
       "    </tr>\n",
       "  </thead>\n",
       "  <tbody>\n",
       "    <tr>\n",
       "      <th>0</th>\n",
       "      <td>Lokajit</td>\n",
       "      <td>Male</td>\n",
       "      <td>6.047202e+10</td>\n",
       "      <td>Andhra Pradesh</td>\n",
       "      <td>Krishna</td>\n",
       "      <td>Middle Andhra</td>\n",
       "      <td>989.0</td>\n",
       "      <td>2020.0</td>\n",
       "      <td>124.0</td>\n",
       "      <td>Qualified</td>\n",
       "      <td>705</td>\n",
       "      <td>JNTUK COLLEGE OF ENGG. KAKINADA</td>\n",
       "      <td>CSE</td>\n",
       "      <td>Yes</td>\n",
       "    </tr>\n",
       "    <tr>\n",
       "      <th>1</th>\n",
       "      <td>Shaik Sajida</td>\n",
       "      <td>Male</td>\n",
       "      <td>6.047201e+10</td>\n",
       "      <td>Andhra Pradesh</td>\n",
       "      <td>East Godavari</td>\n",
       "      <td>Middle Andhra</td>\n",
       "      <td>988.0</td>\n",
       "      <td>2020.0</td>\n",
       "      <td>117.0</td>\n",
       "      <td>Qualified</td>\n",
       "      <td>1300</td>\n",
       "      <td>JNTUK COLLEGE OF ENGG. KAKINADA</td>\n",
       "      <td>CSE</td>\n",
       "      <td>Yes</td>\n",
       "    </tr>\n",
       "    <tr>\n",
       "      <th>2</th>\n",
       "      <td>GULLIPALLI SAI ROHITH NAIDU</td>\n",
       "      <td>Male</td>\n",
       "      <td>6.047202e+10</td>\n",
       "      <td>Andhrapradesh</td>\n",
       "      <td>East Godavari</td>\n",
       "      <td>Middle Andhra</td>\n",
       "      <td>954.0</td>\n",
       "      <td>2020.0</td>\n",
       "      <td>111.0</td>\n",
       "      <td>Qualified</td>\n",
       "      <td>1501</td>\n",
       "      <td>NaN</td>\n",
       "      <td></td>\n",
       "      <td>Yes</td>\n",
       "    </tr>\n",
       "    <tr>\n",
       "      <th>3</th>\n",
       "      <td>Kaditula</td>\n",
       "      <td>female</td>\n",
       "      <td>6.047202e+10</td>\n",
       "      <td>Andhrapradesh</td>\n",
       "      <td>East Godavari</td>\n",
       "      <td>Middle Andhra</td>\n",
       "      <td>987.0</td>\n",
       "      <td>2020.0</td>\n",
       "      <td>110.0</td>\n",
       "      <td>Qualified</td>\n",
       "      <td>1570</td>\n",
       "      <td>JNTUK COLLEGE OF ENGG. KAKINADA</td>\n",
       "      <td>ECE</td>\n",
       "      <td>Yes</td>\n",
       "    </tr>\n",
       "    <tr>\n",
       "      <th>4</th>\n",
       "      <td>Raktakamal</td>\n",
       "      <td>Male</td>\n",
       "      <td>6.047202e+10</td>\n",
       "      <td>Andhrapradesh</td>\n",
       "      <td>Visakhapatnam</td>\n",
       "      <td>North Andhra</td>\n",
       "      <td>987.0</td>\n",
       "      <td>2020.0</td>\n",
       "      <td>109.0</td>\n",
       "      <td>Qualified</td>\n",
       "      <td>1578</td>\n",
       "      <td>GAYATHRI VIDYA PARISHAD COLL. OF ENGINEERING</td>\n",
       "      <td>CSE</td>\n",
       "      <td>Yes</td>\n",
       "    </tr>\n",
       "  </tbody>\n",
       "</table>\n",
       "</div>"
      ],
      "text/plain": [
       "                           Name  Gender  Hallticket number           State  \\\n",
       "0                       Lokajit    Male       6.047202e+10  Andhra Pradesh   \n",
       "1                  Shaik Sajida    Male       6.047201e+10  Andhra Pradesh   \n",
       "2  GULLIPALLI SAI ROHITH NAIDU     Male       6.047202e+10   Andhrapradesh   \n",
       "3                      Kaditula  female       6.047202e+10   Andhrapradesh   \n",
       "4                    Raktakamal    Male       6.047202e+10   Andhrapradesh   \n",
       "\n",
       "        District         region  Intermediate_marks  Eamcet year  \\\n",
       "0        Krishna  Middle Andhra               989.0       2020.0   \n",
       "1  East Godavari  Middle Andhra               988.0       2020.0   \n",
       "2  East Godavari  Middle Andhra               954.0       2020.0   \n",
       "3  East Godavari  Middle Andhra               987.0       2020.0   \n",
       "4  Visakhapatnam   North Andhra               987.0       2020.0   \n",
       "\n",
       "   eamcet marks     status Eamcet rank  \\\n",
       "0         124.0  Qualified         705   \n",
       "1         117.0  Qualified        1300   \n",
       "2         111.0  Qualified        1501   \n",
       "3         110.0  Qualified        1570   \n",
       "4         109.0  Qualified        1578   \n",
       "\n",
       "                               Allotted college Branch Coed  \n",
       "0               JNTUK COLLEGE OF ENGG. KAKINADA    CSE  Yes  \n",
       "1               JNTUK COLLEGE OF ENGG. KAKINADA    CSE  Yes  \n",
       "2                                           NaN         Yes  \n",
       "3               JNTUK COLLEGE OF ENGG. KAKINADA    ECE  Yes  \n",
       "4  GAYATHRI VIDYA PARISHAD COLL. OF ENGINEERING    CSE  Yes  "
      ]
     },
     "execution_count": 2,
     "metadata": {},
     "output_type": "execute_result"
    }
   ],
   "source": [
    "df.head()"
   ]
  },
  {
   "cell_type": "code",
   "execution_count": 4,
   "id": "a324cf9c",
   "metadata": {},
   "outputs": [],
   "source": [
    "inputs = df.drop(['Name','Gender','Hallticket number','State','Eamcet year','Eamcet rank','eamcet marks','Allotted college','Branch','Coed','status'],axis='columns')\n",
    "target = df['status']"
   ]
  },
  {
   "cell_type": "code",
   "execution_count": 5,
   "id": "607807a1",
   "metadata": {},
   "outputs": [
    {
     "data": {
      "text/html": [
       "<div>\n",
       "<style scoped>\n",
       "    .dataframe tbody tr th:only-of-type {\n",
       "        vertical-align: middle;\n",
       "    }\n",
       "\n",
       "    .dataframe tbody tr th {\n",
       "        vertical-align: top;\n",
       "    }\n",
       "\n",
       "    .dataframe thead th {\n",
       "        text-align: right;\n",
       "    }\n",
       "</style>\n",
       "<table border=\"1\" class=\"dataframe\">\n",
       "  <thead>\n",
       "    <tr style=\"text-align: right;\">\n",
       "      <th></th>\n",
       "      <th>District</th>\n",
       "      <th>region</th>\n",
       "      <th>Intermediate_marks</th>\n",
       "    </tr>\n",
       "  </thead>\n",
       "  <tbody>\n",
       "    <tr>\n",
       "      <th>0</th>\n",
       "      <td>Krishna</td>\n",
       "      <td>Middle Andhra</td>\n",
       "      <td>989.0</td>\n",
       "    </tr>\n",
       "    <tr>\n",
       "      <th>1</th>\n",
       "      <td>East Godavari</td>\n",
       "      <td>Middle Andhra</td>\n",
       "      <td>988.0</td>\n",
       "    </tr>\n",
       "    <tr>\n",
       "      <th>2</th>\n",
       "      <td>East Godavari</td>\n",
       "      <td>Middle Andhra</td>\n",
       "      <td>954.0</td>\n",
       "    </tr>\n",
       "    <tr>\n",
       "      <th>3</th>\n",
       "      <td>East Godavari</td>\n",
       "      <td>Middle Andhra</td>\n",
       "      <td>987.0</td>\n",
       "    </tr>\n",
       "    <tr>\n",
       "      <th>4</th>\n",
       "      <td>Visakhapatnam</td>\n",
       "      <td>North Andhra</td>\n",
       "      <td>987.0</td>\n",
       "    </tr>\n",
       "  </tbody>\n",
       "</table>\n",
       "</div>"
      ],
      "text/plain": [
       "        District         region  Intermediate_marks\n",
       "0        Krishna  Middle Andhra               989.0\n",
       "1  East Godavari  Middle Andhra               988.0\n",
       "2  East Godavari  Middle Andhra               954.0\n",
       "3  East Godavari  Middle Andhra               987.0\n",
       "4  Visakhapatnam   North Andhra               987.0"
      ]
     },
     "execution_count": 5,
     "metadata": {},
     "output_type": "execute_result"
    }
   ],
   "source": [
    "inputs.head()"
   ]
  },
  {
   "cell_type": "code",
   "execution_count": 6,
   "id": "08564c60",
   "metadata": {},
   "outputs": [
    {
     "data": {
      "text/plain": [
       "0           Qualified\n",
       "1           Qualified\n",
       "2           Qualified\n",
       "3           Qualified\n",
       "4           Qualified\n",
       "            ...      \n",
       "2477    Not Qualified\n",
       "2478    Not Qualified\n",
       "2479    Not Qualified\n",
       "2480    Not Qualified\n",
       "2481              NaN\n",
       "Name: status, Length: 2482, dtype: object"
      ]
     },
     "execution_count": 6,
     "metadata": {},
     "output_type": "execute_result"
    }
   ],
   "source": [
    "target"
   ]
  },
  {
   "cell_type": "code",
   "execution_count": 18,
   "id": "3969b504",
   "metadata": {},
   "outputs": [],
   "source": [
    "from sklearn.preprocessing import LabelEncoder\n"
   ]
  },
  {
   "cell_type": "code",
   "execution_count": 19,
   "id": "0abcaa73",
   "metadata": {},
   "outputs": [],
   "source": [
    "le_District = LabelEncoder()\n",
    "le_region = LabelEncoder()\n",
    "le_Intermediate_marks = LabelEncoder()\n",
    "le_status = LabelEncoder()"
   ]
  },
  {
   "cell_type": "code",
   "execution_count": 20,
   "id": "31a8fcb3",
   "metadata": {},
   "outputs": [],
   "source": [
    "inputs['District_n'] = le_District.fit_transform(inputs['District'])\n",
    "inputs['region_n'] = le_region.fit_transform(inputs['region'])\n",
    "inputs['Intermedite_marks_n'] = le_Intermediate_marks.fit_transform(inputs['Intermediate_marks'])\n",
    "df['status_n'] = le_status.fit_transform(df['status'])"
   ]
  },
  {
   "cell_type": "code",
   "execution_count": 21,
   "id": "3cf0581a",
   "metadata": {},
   "outputs": [
    {
     "data": {
      "text/html": [
       "<div>\n",
       "<style scoped>\n",
       "    .dataframe tbody tr th:only-of-type {\n",
       "        vertical-align: middle;\n",
       "    }\n",
       "\n",
       "    .dataframe tbody tr th {\n",
       "        vertical-align: top;\n",
       "    }\n",
       "\n",
       "    .dataframe thead th {\n",
       "        text-align: right;\n",
       "    }\n",
       "</style>\n",
       "<table border=\"1\" class=\"dataframe\">\n",
       "  <thead>\n",
       "    <tr style=\"text-align: right;\">\n",
       "      <th></th>\n",
       "      <th>District</th>\n",
       "      <th>region</th>\n",
       "      <th>Intermediate_marks</th>\n",
       "      <th>District_n</th>\n",
       "      <th>region_n</th>\n",
       "      <th>Intermedite_marks_n</th>\n",
       "    </tr>\n",
       "  </thead>\n",
       "  <tbody>\n",
       "    <tr>\n",
       "      <th>0</th>\n",
       "      <td>Krishna</td>\n",
       "      <td>Middle Andhra</td>\n",
       "      <td>989.0</td>\n",
       "      <td>4</td>\n",
       "      <td>1</td>\n",
       "      <td>546</td>\n",
       "    </tr>\n",
       "    <tr>\n",
       "      <th>1</th>\n",
       "      <td>East Godavari</td>\n",
       "      <td>Middle Andhra</td>\n",
       "      <td>988.0</td>\n",
       "      <td>2</td>\n",
       "      <td>1</td>\n",
       "      <td>545</td>\n",
       "    </tr>\n",
       "    <tr>\n",
       "      <th>2</th>\n",
       "      <td>East Godavari</td>\n",
       "      <td>Middle Andhra</td>\n",
       "      <td>954.0</td>\n",
       "      <td>2</td>\n",
       "      <td>1</td>\n",
       "      <td>511</td>\n",
       "    </tr>\n",
       "    <tr>\n",
       "      <th>3</th>\n",
       "      <td>East Godavari</td>\n",
       "      <td>Middle Andhra</td>\n",
       "      <td>987.0</td>\n",
       "      <td>2</td>\n",
       "      <td>1</td>\n",
       "      <td>544</td>\n",
       "    </tr>\n",
       "    <tr>\n",
       "      <th>4</th>\n",
       "      <td>Visakhapatnam</td>\n",
       "      <td>North Andhra</td>\n",
       "      <td>987.0</td>\n",
       "      <td>9</td>\n",
       "      <td>2</td>\n",
       "      <td>544</td>\n",
       "    </tr>\n",
       "  </tbody>\n",
       "</table>\n",
       "</div>"
      ],
      "text/plain": [
       "        District         region  Intermediate_marks  District_n  region_n  \\\n",
       "0        Krishna  Middle Andhra               989.0           4         1   \n",
       "1  East Godavari  Middle Andhra               988.0           2         1   \n",
       "2  East Godavari  Middle Andhra               954.0           2         1   \n",
       "3  East Godavari  Middle Andhra               987.0           2         1   \n",
       "4  Visakhapatnam   North Andhra               987.0           9         2   \n",
       "\n",
       "   Intermedite_marks_n  \n",
       "0                  546  \n",
       "1                  545  \n",
       "2                  511  \n",
       "3                  544  \n",
       "4                  544  "
      ]
     },
     "execution_count": 21,
     "metadata": {},
     "output_type": "execute_result"
    }
   ],
   "source": [
    "inputs.head()"
   ]
  },
  {
   "cell_type": "code",
   "execution_count": 22,
   "id": "f79176be",
   "metadata": {},
   "outputs": [],
   "source": [
    "inputs_n = inputs.drop(['District','region','Intermediate_marks'],axis='columns')\n",
    "target2 = df['status_n']"
   ]
  },
  {
   "cell_type": "code",
   "execution_count": 23,
   "id": "586e5804",
   "metadata": {},
   "outputs": [
    {
     "data": {
      "text/plain": [
       "0       1\n",
       "1       1\n",
       "2       1\n",
       "3       1\n",
       "4       1\n",
       "       ..\n",
       "2477    0\n",
       "2478    0\n",
       "2479    0\n",
       "2480    0\n",
       "2481    2\n",
       "Name: status_n, Length: 2482, dtype: int32"
      ]
     },
     "execution_count": 23,
     "metadata": {},
     "output_type": "execute_result"
    }
   ],
   "source": [
    "target2"
   ]
  },
  {
   "cell_type": "code",
   "execution_count": 24,
   "id": "e9c6c9a3",
   "metadata": {},
   "outputs": [
    {
     "data": {
      "text/html": [
       "<div>\n",
       "<style scoped>\n",
       "    .dataframe tbody tr th:only-of-type {\n",
       "        vertical-align: middle;\n",
       "    }\n",
       "\n",
       "    .dataframe tbody tr th {\n",
       "        vertical-align: top;\n",
       "    }\n",
       "\n",
       "    .dataframe thead th {\n",
       "        text-align: right;\n",
       "    }\n",
       "</style>\n",
       "<table border=\"1\" class=\"dataframe\">\n",
       "  <thead>\n",
       "    <tr style=\"text-align: right;\">\n",
       "      <th></th>\n",
       "      <th>District_n</th>\n",
       "      <th>region_n</th>\n",
       "      <th>Intermedite_marks_n</th>\n",
       "    </tr>\n",
       "  </thead>\n",
       "  <tbody>\n",
       "    <tr>\n",
       "      <th>0</th>\n",
       "      <td>4</td>\n",
       "      <td>1</td>\n",
       "      <td>546</td>\n",
       "    </tr>\n",
       "    <tr>\n",
       "      <th>1</th>\n",
       "      <td>2</td>\n",
       "      <td>1</td>\n",
       "      <td>545</td>\n",
       "    </tr>\n",
       "    <tr>\n",
       "      <th>2</th>\n",
       "      <td>2</td>\n",
       "      <td>1</td>\n",
       "      <td>511</td>\n",
       "    </tr>\n",
       "    <tr>\n",
       "      <th>3</th>\n",
       "      <td>2</td>\n",
       "      <td>1</td>\n",
       "      <td>544</td>\n",
       "    </tr>\n",
       "    <tr>\n",
       "      <th>4</th>\n",
       "      <td>9</td>\n",
       "      <td>2</td>\n",
       "      <td>544</td>\n",
       "    </tr>\n",
       "  </tbody>\n",
       "</table>\n",
       "</div>"
      ],
      "text/plain": [
       "   District_n  region_n  Intermedite_marks_n\n",
       "0           4         1                  546\n",
       "1           2         1                  545\n",
       "2           2         1                  511\n",
       "3           2         1                  544\n",
       "4           9         2                  544"
      ]
     },
     "execution_count": 24,
     "metadata": {},
     "output_type": "execute_result"
    }
   ],
   "source": [
    "inputs_n.head()"
   ]
  },
  {
   "cell_type": "code",
   "execution_count": 25,
   "id": "94217527",
   "metadata": {},
   "outputs": [],
   "source": [
    "from sklearn import tree\n",
    "model = tree.DecisionTreeClassifier()"
   ]
  },
  {
   "cell_type": "code",
   "execution_count": 26,
   "id": "7a2f9954",
   "metadata": {},
   "outputs": [
    {
     "data": {
      "text/html": [
       "<style>#sk-container-id-2 {color: black;background-color: white;}#sk-container-id-2 pre{padding: 0;}#sk-container-id-2 div.sk-toggleable {background-color: white;}#sk-container-id-2 label.sk-toggleable__label {cursor: pointer;display: block;width: 100%;margin-bottom: 0;padding: 0.3em;box-sizing: border-box;text-align: center;}#sk-container-id-2 label.sk-toggleable__label-arrow:before {content: \"▸\";float: left;margin-right: 0.25em;color: #696969;}#sk-container-id-2 label.sk-toggleable__label-arrow:hover:before {color: black;}#sk-container-id-2 div.sk-estimator:hover label.sk-toggleable__label-arrow:before {color: black;}#sk-container-id-2 div.sk-toggleable__content {max-height: 0;max-width: 0;overflow: hidden;text-align: left;background-color: #f0f8ff;}#sk-container-id-2 div.sk-toggleable__content pre {margin: 0.2em;color: black;border-radius: 0.25em;background-color: #f0f8ff;}#sk-container-id-2 input.sk-toggleable__control:checked~div.sk-toggleable__content {max-height: 200px;max-width: 100%;overflow: auto;}#sk-container-id-2 input.sk-toggleable__control:checked~label.sk-toggleable__label-arrow:before {content: \"▾\";}#sk-container-id-2 div.sk-estimator input.sk-toggleable__control:checked~label.sk-toggleable__label {background-color: #d4ebff;}#sk-container-id-2 div.sk-label input.sk-toggleable__control:checked~label.sk-toggleable__label {background-color: #d4ebff;}#sk-container-id-2 input.sk-hidden--visually {border: 0;clip: rect(1px 1px 1px 1px);clip: rect(1px, 1px, 1px, 1px);height: 1px;margin: -1px;overflow: hidden;padding: 0;position: absolute;width: 1px;}#sk-container-id-2 div.sk-estimator {font-family: monospace;background-color: #f0f8ff;border: 1px dotted black;border-radius: 0.25em;box-sizing: border-box;margin-bottom: 0.5em;}#sk-container-id-2 div.sk-estimator:hover {background-color: #d4ebff;}#sk-container-id-2 div.sk-parallel-item::after {content: \"\";width: 100%;border-bottom: 1px solid gray;flex-grow: 1;}#sk-container-id-2 div.sk-label:hover label.sk-toggleable__label {background-color: #d4ebff;}#sk-container-id-2 div.sk-serial::before {content: \"\";position: absolute;border-left: 1px solid gray;box-sizing: border-box;top: 0;bottom: 0;left: 50%;z-index: 0;}#sk-container-id-2 div.sk-serial {display: flex;flex-direction: column;align-items: center;background-color: white;padding-right: 0.2em;padding-left: 0.2em;position: relative;}#sk-container-id-2 div.sk-item {position: relative;z-index: 1;}#sk-container-id-2 div.sk-parallel {display: flex;align-items: stretch;justify-content: center;background-color: white;position: relative;}#sk-container-id-2 div.sk-item::before, #sk-container-id-2 div.sk-parallel-item::before {content: \"\";position: absolute;border-left: 1px solid gray;box-sizing: border-box;top: 0;bottom: 0;left: 50%;z-index: -1;}#sk-container-id-2 div.sk-parallel-item {display: flex;flex-direction: column;z-index: 1;position: relative;background-color: white;}#sk-container-id-2 div.sk-parallel-item:first-child::after {align-self: flex-end;width: 50%;}#sk-container-id-2 div.sk-parallel-item:last-child::after {align-self: flex-start;width: 50%;}#sk-container-id-2 div.sk-parallel-item:only-child::after {width: 0;}#sk-container-id-2 div.sk-dashed-wrapped {border: 1px dashed gray;margin: 0 0.4em 0.5em 0.4em;box-sizing: border-box;padding-bottom: 0.4em;background-color: white;}#sk-container-id-2 div.sk-label label {font-family: monospace;font-weight: bold;display: inline-block;line-height: 1.2em;}#sk-container-id-2 div.sk-label-container {text-align: center;}#sk-container-id-2 div.sk-container {/* jupyter's `normalize.less` sets `[hidden] { display: none; }` but bootstrap.min.css set `[hidden] { display: none !important; }` so we also need the `!important` here to be able to override the default hidden behavior on the sphinx rendered scikit-learn.org. See: https://github.com/scikit-learn/scikit-learn/issues/21755 */display: inline-block !important;position: relative;}#sk-container-id-2 div.sk-text-repr-fallback {display: none;}</style><div id=\"sk-container-id-2\" class=\"sk-top-container\"><div class=\"sk-text-repr-fallback\"><pre>DecisionTreeClassifier()</pre><b>In a Jupyter environment, please rerun this cell to show the HTML representation or trust the notebook. <br />On GitHub, the HTML representation is unable to render, please try loading this page with nbviewer.org.</b></div><div class=\"sk-container\" hidden><div class=\"sk-item\"><div class=\"sk-estimator sk-toggleable\"><input class=\"sk-toggleable__control sk-hidden--visually\" id=\"sk-estimator-id-2\" type=\"checkbox\" checked><label for=\"sk-estimator-id-2\" class=\"sk-toggleable__label sk-toggleable__label-arrow\">DecisionTreeClassifier</label><div class=\"sk-toggleable__content\"><pre>DecisionTreeClassifier()</pre></div></div></div></div></div>"
      ],
      "text/plain": [
       "DecisionTreeClassifier()"
      ]
     },
     "execution_count": 26,
     "metadata": {},
     "output_type": "execute_result"
    }
   ],
   "source": [
    "#now training the model\n",
    "model.fit(inputs_n,target2)"
   ]
  },
  {
   "cell_type": "code",
   "execution_count": 27,
   "id": "721dc3d4",
   "metadata": {},
   "outputs": [
    {
     "data": {
      "text/plain": [
       "0.9935535858178888"
      ]
     },
     "execution_count": 27,
     "metadata": {},
     "output_type": "execute_result"
    }
   ],
   "source": [
    "model.score(inputs_n,target2)"
   ]
  },
  {
   "cell_type": "code",
   "execution_count": 28,
   "id": "b7747fa4",
   "metadata": {},
   "outputs": [
    {
     "name": "stderr",
     "output_type": "stream",
     "text": [
      "c:\\Users\\pssbh\\AppData\\Local\\Programs\\Python\\Python311\\Lib\\site-packages\\sklearn\\base.py:439: UserWarning: X does not have valid feature names, but DecisionTreeClassifier was fitted with feature names\n",
      "  warnings.warn(\n"
     ]
    },
    {
     "data": {
      "text/plain": [
       "array([1])"
      ]
     },
     "execution_count": 28,
     "metadata": {},
     "output_type": "execute_result"
    }
   ],
   "source": [
    "model.predict([[2,1,545]])"
   ]
  },
  {
   "cell_type": "code",
   "execution_count": null,
   "id": "92cb0b83",
   "metadata": {},
   "outputs": [],
   "source": []
  }
 ],
 "metadata": {
  "kernelspec": {
   "display_name": "Python 3 (ipykernel)",
   "language": "python",
   "name": "python3"
  },
  "language_info": {
   "codemirror_mode": {
    "name": "ipython",
    "version": 3
   },
   "file_extension": ".py",
   "mimetype": "text/x-python",
   "name": "python",
   "nbconvert_exporter": "python",
   "pygments_lexer": "ipython3",
   "version": "3.11.4"
  },
  "varInspector": {
   "cols": {
    "lenName": 16,
    "lenType": 16,
    "lenVar": 40
   },
   "kernels_config": {
    "python": {
     "delete_cmd_postfix": "",
     "delete_cmd_prefix": "del ",
     "library": "var_list.py",
     "varRefreshCmd": "print(var_dic_list())"
    },
    "r": {
     "delete_cmd_postfix": ") ",
     "delete_cmd_prefix": "rm(",
     "library": "var_list.r",
     "varRefreshCmd": "cat(var_dic_list()) "
    }
   },
   "types_to_exclude": [
    "module",
    "function",
    "builtin_function_or_method",
    "instance",
    "_Feature"
   ],
   "window_display": false
  }
 },
 "nbformat": 4,
 "nbformat_minor": 5
}
